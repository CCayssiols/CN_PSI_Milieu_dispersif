{
 "cells": [
  {
   "cell_type": "markdown",
   "metadata": {},
   "source": [
    "<div style='background-image: url(\"main.png\") ; padding: 0px ; background-size: cover ; border-radius: 5px ; height: 200px ; width: 100%'>\n",
    "    <div style=\"float: right ; margin: 20px ; padding: 20px ; background: rgba(255 , 255 , 255 , 0.9) ; width: 50% ; height: 150px\">\n",
    "        <div style=\"position: relative ; top: 50% ; transform: translatey(-50%)\">\n",
    "            <div style=\"font-size: xx-large ; font-weight: 900 ; color: rgba(0 , 0 , 0 , .8) ; line-height: 100%\">Physique des ondes\n",
    "            </div>\n",
    "            <div style=\"font-size: large ; padding-top: 20px ; color: rgba(0 , 0 , 0 , 0.5)\">Paquet d'onde | Paquet d'onde & milieu absorbant\n",
    "             </div>\n",
    "        </div>\n",
    "    </div>\n",
    "</div>"
   ]
  },
  {
   "cell_type": "markdown",
   "metadata": {},
   "source": [
    "<b>*ATTENTION!*\n",
    "Les calculs engagés dans ce notebook sont longs et ne peuvent être raccourcis qu'au prix d'une erreur numérique parfois conséquente. Une exécution pas à pas est recommandée</b>\n",
    "\n",
    "&nbsp;\n",
    "<b>De même, les valeurs par défaut des diverses grandeurs `Num_x`, `L`, `lambda0` etc.. sont le fruit de nombreux tests. Vous vous éloignerez de ces valeurs *à vos risques et périls (numériques)*... </b>"
   ]
  },
  {
   "cell_type": "code",
   "execution_count": 1,
   "metadata": {},
   "outputs": [],
   "source": [
    "# commande permettant d'insérer les figures matplotlib dans les notebooks\n",
    "%matplotlib inline\n",
    "\n",
    "# import des librairies \n",
    "import numpy as np\n",
    "from scipy.integrate import odeint\n",
    "from scipy import fft\n",
    "import matplotlib.pyplot as plt"
   ]
  },
  {
   "cell_type": "markdown",
   "metadata": {},
   "source": [
    "# Mise en œuvre du problème physique\n",
    "##  Propagation d'une onde électromagnétique\n",
    "\n",
    "On étudie la propogation d'une onde électromagnétique dans le divers milieux en commençant par le plus simple : le vide.\n",
    "\n",
    "&nbsp;\n",
    "Le domaine étudié à une longueur de $L=50~\\text{m}$, la longueur d'onde choisie est $\\lambda_0=1~\\text{m}$, et, pour rendre plus lisibles les résultats, on fixera la célérité des ondes dans le vide à $c=1~\\text{m.s}^{-1}$. On en déduit la valeur de la pulsation associée dans le vide, noté $\\omega_0$."
   ]
  },
  {
   "cell_type": "code",
   "execution_count": 2,
   "metadata": {},
   "outputs": [],
   "source": [
    "# Domaine de calcul\n",
    "L = 50 # longueur\n",
    "\n",
    "# Signal EMAG\n",
    "E_amp = 1 # amplitude\n",
    "lambda0 = 1 # longueur d'onde\n",
    "sigma0 = 1 / lambda0 # nombre d'onde\n",
    "c = 1 # célérité \n",
    "omega0=2*np.pi*sigma0*c # pulsation associée à la longueur d'onde"
   ]
  },
  {
   "cell_type": "markdown",
   "metadata": {},
   "source": [
    "## Variables numériques\n",
    "Les variables numériques spatiales, nombre de points et pas d'espace sont `Num_x` et `delta_x`, tandis que les variables temporelles sont `Num_t` et `delta_t`."
   ]
  },
  {
   "cell_type": "code",
   "execution_count": 3,
   "metadata": {},
   "outputs": [],
   "source": [
    "# Intégration spatiale\n",
    "Num_x = 5001 # points de calcul\n",
    "x=np.linspace(0,L,Num_x) # vecteur position\n",
    "delta_x = x[1]-x[0] # intervalle spatial d'intégration\n",
    "\n",
    "\n",
    "# Intégration temporelle\n",
    "Num_t = 10001 # points de calcul\n",
    "t=np.linspace(0,L/(c),Num_t) # vecteur temps\n",
    "delta_t = t[1]-t[0] # intervalle temporel d'intégration"
   ]
  },
  {
   "cell_type": "markdown",
   "metadata": {},
   "source": [
    "# Propagation d'une onde dans le métal (milieu non dispersif mais absorbant)\n",
    "\n",
    "## Forme d'onde simple, fenêtre de Hann\n",
    "On utilise à nouveau la fonction `Hann`, présentée dans le notebook sur les ondes électromagnétiques dans le vide."
   ]
  },
  {
   "cell_type": "code",
   "execution_count": 4,
   "metadata": {},
   "outputs": [],
   "source": [
    "x0=L/2 # position initiale de la forme d'onde\n",
    "\n",
    "## Fenêtre de définition de la forme d'onde\n",
    "def Hann(x,x0,H):\n",
    "    func=np.zeros(len(x))\n",
    "    for i in range(len(x)):\n",
    "        if abs(x[i]-x0)<H/2:\n",
    "            func[i]=.5*(1-np.cos(2*np.pi*(x[i]-x0+H/2)/H))\n",
    "    return func"
   ]
  },
  {
   "cell_type": "markdown",
   "metadata": {},
   "source": [
    "## Propagation dans un métal (milieu absorbant, non dispersif)\n",
    "Dans un conducteur ohmique, où la loi d'Ohm locale est vérifiée : $\\vec{j}=\\gamma\\vec{E}$, l'équation de propagation est modifiée et on a, cette fois : \n",
    "$$\\dfrac{\\partial^2 E}{\\partial t^2}=c^2\\dfrac{\\partial^2 E}{\\partial x^2}-c^2\\mu_0\\gamma \\dfrac{\\partial E}{\\partial t}$$\n",
    "où $\\mu_0\\epsilon_0c^2=1$.\n",
    "\n",
    "### Approche numérique\n",
    "Le code utilisé pour les ondes électromagnétiques dans le vide doit être modifié un peu plus profondément. La dérivée première par rapport au temps s'écrit $\\frac{\\partial E}{\\partial t}(x_i,t_k)\\simeq\\frac{E^{k+1}_j - E^k_j}{\\Delta t}$ et fait donc intervenir l'instant `E_new`. Il faut donc modifier la relation de récurrence qui le met à jour :\n",
    "$$E^{k+1}=\\dfrac{E^k\\left(2+\\mu_0\\gamma c^2\\Delta t\\right)-E^{k-1}+c^2\\Delta t ^2 \\Delta E^k}{1+\\mu_0\\gamma\\Delta_t c^2}$$"
   ]
  },
  {
   "cell_type": "code",
   "execution_count": 5,
   "metadata": {},
   "outputs": [],
   "source": [
    "#################################\n",
    "## PAQUET D'ONDE DANS UN METAL ##\n",
    "#################################\n",
    "\n",
    "# Nouvelle grandeurs physique à considérer\n",
    "mu0 = 1\n",
    "gamma = .1\n",
    "\n",
    "# Intégration temporelle, répétée à nouveau pour éviter des confusions\n",
    "Num_t = 20001 # points de calcul\n",
    "t=np.linspace(0,L/(c),Num_t) # vecteur temps\n",
    "delta_t = t[1]-t[0] # intervalle temporel d'intégration\n",
    "\n",
    "## Forme d'onde à l'instant t, t-dt et t+dt, répétée à nouveau pour éviter des confusions \n",
    "x0=L/50\n",
    "H=lambda0\n",
    "\n",
    "E ,E0 = E_amp*Hann(x,x0,H)*np.cos(2*np.pi*x*4/lambda0),E_amp*Hann(x,x0,H)*np.cos(2*np.pi*x*4/lambda0) \n",
    "E_old  = E_amp*Hann(x,x0-c*delta_t,H)*np.cos(2*np.pi*(x+c*delta_t)*4/lambda0)\n",
    "E_new  = E_amp*Hann(x,x0+c*delta_t,H)*np.cos(2*np.pi*(x-c*delta_t)*4/lambda0)\n",
    "\n",
    "E_store=[] # liste dans laquelle on stocke quelques formes d'onde intermédiaires\n",
    "time_store=[] # liste dans laquelle on stocke les instants correspondants\n",
    "\n",
    "d2Ex=np.zeros(Num_x)\n",
    "\n",
    "duree, k, time = 45, 0,0\n",
    "while time < duree : \n",
    "    for i in range(Num_x-1):\n",
    "        if i==0 :\n",
    "            d2Ex[i] = (E[i+1]+0-2*E[i])/delta_x**2\n",
    "        elif i==1 or i==Num_x-2 :\n",
    "            d2Ex[i] = (E[i+1]+E[i-1]-2*E[i])/delta_x**2\n",
    "        elif i==Num_x-1:\n",
    "            d2Ex[i] = (0+E[i-1]-2*E[i])/delta_x**2\n",
    "        else :\n",
    "            d2Ex[i] = (-1/12*E[i+2]+4/3*E[i+1]-5/2*E[i]+4/3*E[i-1]-1/12*E[i-2])/delta_x**2\n",
    "    E_new = (E*(2+mu0*gamma*delta_t*c**2) - E_old + ((c*delta_t)**2)*d2Ex)/(1+mu0*gamma*delta_t*c**2)\n",
    "    E_old, E = E, E_new\n",
    "    if k%(duree/(5*delta_t)) == 0 :\n",
    "        E_store.append(E)\n",
    "        time_store.append(time)\n",
    "    k += 1\n",
    "    time += delta_t"
   ]
  },
  {
   "cell_type": "code",
   "execution_count": 6,
   "metadata": {},
   "outputs": [
    {
     "data": {
      "image/png": "[encoded data removed]",
      "text/plain": [
       "<Figure size 432x288 with 1 Axes>"
      ]
     },
     "metadata": {
      "needs_background": "light"
     },
     "output_type": "display_data"
    },
    {
     "name": "stdout",
     "output_type": "stream",
     "text": [
      "La vitesse de propagation moyenne de l'onde simulée est de  1.000e+00 m/s\n",
      "L'écart-type de la vitesse de propagation de l'onde simulée est de  1.383e-04 m/s\n"
     ]
    }
   ],
   "source": [
    "plt.figure()\n",
    "plt.grid(True)\n",
    "for i in range(len(E_store)) :\n",
    "    plt.plot(x,E_store[i], label=\"instant \"+str(format(time_store[i], \"#.1e\")))\n",
    "plt.xlabel(r\"distance en $m$\")\n",
    "plt.ylabel(r\"amplitude en $V.m^{-1}$\")\n",
    "plt.legend()\n",
    "plt.show()\n",
    "\n",
    "# On ne prend pas en compte l'instant initial (distance nulle et division par 0)\n",
    "pos = np.array([np.abs(x[np.argmax(abs(E0))]-x[np.argmax(abs(E_store[i]))]) for i in range(1,len(E_store))])\n",
    "v_phi = np.array([pos[i]/((i+1)*duree/5) for i in range(len(pos))])\n",
    "\n",
    "v_phi_moy=np.mean(v_phi)\n",
    "v_phi_u=np.std(v_phi, ddof=1)\n",
    "print(\"La vitesse de propagation moyenne de l'onde simulée est de \",format(v_phi_moy,\"#.3e\"),\"m/s\")\n",
    "print(\"L'écart-type de la vitesse de propagation de l'onde simulée est de \",format(v_phi_u,\"#.3e\"),\"m/s\")"
   ]
  },
  {
   "cell_type": "markdown",
   "metadata": {},
   "source": [
    "On constate une décroissance de l'amplitude, sans déformation longitudinale de l'onde. \n",
    "### Animation\n",
    "Ce constat est encore plus frappant, lorsque l'on regarde l'animation ci-dessous faite sur la base des valeurs suivantes : \n",
    "`gamma=.3`, `mu0=1` et `H=10*lambda0`."
   ]
  },
  {
   "cell_type": "code",
   "execution_count": 7,
   "metadata": {},
   "outputs": [
    {
     "data": {
      "text/html": [
       "<video src=\"prop_metal_paquet.mp4\" controls  width=\"640\" >\n",
       "      Your browser does not support the <code>video</code> element.\n",
       "    </video>"
      ],
      "text/plain": [
       "<IPython.core.display.Video object>"
      ]
     },
     "execution_count": 7,
     "metadata": {},
     "output_type": "execute_result"
    }
   ],
   "source": [
    "from IPython.display import Video\n",
    "\n",
    "Video(\"prop_metal_paquet.mp4\", width=640)"
   ]
  },
  {
   "cell_type": "markdown",
   "metadata": {},
   "source": [
    "On peut remarquer une très légère réflexion qui augmente si la valeur de la conductivité augmente de manière conséquente."
   ]
  },
  {
   "cell_type": "code",
   "execution_count": 8,
   "metadata": {},
   "outputs": [
    {
     "data": {
      "text/html": [
       "<video src=\"prop_metal_g3000.mp4\" controls  width=\"640\" >\n",
       "      Your browser does not support the <code>video</code> element.\n",
       "    </video>"
      ],
      "text/plain": [
       "<IPython.core.display.Video object>"
      ]
     },
     "execution_count": 8,
     "metadata": {},
     "output_type": "execute_result"
    }
   ],
   "source": [
    "from IPython.display import Video\n",
    "\n",
    "Video(\"prop_metal_g3000.mp4\", width=640)"
   ]
  },
  {
   "cell_type": "markdown",
   "metadata": {},
   "source": [
    "On constate une décroissance de l'amplitude, sans déformation longitudinale de l'onde. On peut s'en convaincre en superposant les ondes captées aux instants $t_k$."
   ]
  },
  {
   "cell_type": "code",
   "execution_count": 9,
   "metadata": {},
   "outputs": [
    {
     "data": {
      "image/png": "[encoded data removed]",
      "text/plain": [
       "<Figure size 432x288 with 1 Axes>"
      ]
     },
     "metadata": {
      "needs_background": "light"
     },
     "output_type": "display_data"
    }
   ],
   "source": [
    "start=[int(x[np.argmax(abs(E0))] + i*c*duree/(5*delta_x)) for i in range(len(E_store))]\n",
    "end = [start[i]+int(2*lambda0/delta_x) for i in range(len(E_store))]\n",
    "\n",
    "end0=int(2*lambda0/delta_x)\n",
    "\n",
    "plt.figure()\n",
    "for i in range(len(start)):\n",
    "    plt.plot(x[start[0]:end[0]],E_store[i][start[i]:end[i]], label=\"instant \"+str(format(time_store[i], \"#.1e\")))\n",
    "plt.xlabel(r\"distance en $m$\")\n",
    "plt.ylabel(r\"amplitude en $V.m^{-1}$\")\n",
    "plt.legend()\n",
    "plt.grid(True)\n",
    "plt.show()"
   ]
  },
  {
   "cell_type": "markdown",
   "metadata": {},
   "source": [
    "L'amplitude de l'onde décroît tout au long de sa propagation, et, si on cherche à modéliser cette décroissance par une forme exponentielle $\\text{Amp}(x)=\\text{Amp}(x_0)\\text{e}^{-\\frac{x}{\\delta}}$, on trouve la valeur suivante : "
   ]
  },
  {
   "cell_type": "code",
   "execution_count": 10,
   "metadata": {},
   "outputs": [
    {
     "name": "stdout",
     "output_type": "stream",
     "text": [
      "L'épaisseur de peau peut être évaluée par : 1.993e+01 m\n",
      "L'incertitude-type associée à cette épaisseur de peau est : 3.174e-02 m\n"
     ]
    }
   ],
   "source": [
    "delta = []\n",
    "for i in range(1,len(E_store)):\n",
    "    ind0 = np.argmax(abs(E_store[0]))\n",
    "    ind = np.argmax(abs(E_store[i]))\n",
    "    delta.append((x[ind0]-x[ind])/np.log(E_store[i][ind]/E_store[0][ind0]))\n",
    "\n",
    "print(\"L'épaisseur de peau peut être évaluée par :\", format(np.mean(delta), \"#.3e\"), \"m\")\n",
    "print(\"L'incertitude-type associée à cette épaisseur de peau est :\", format(np.std(delta, ddof=1), \"#.3e\"), \"m\")\n"
   ]
  }
 ],
 "metadata": {
  "kernelspec": {
   "display_name": "Python 3",
   "language": "python",
   "name": "python3"
  },
  "language_info": {
   "codemirror_mode": {
    "name": "ipython",
    "version": 3
   },
   "file_extension": ".py",
   "mimetype": "text/x-python",
   "name": "python",
   "nbconvert_exporter": "python",
   "pygments_lexer": "ipython3",
   "version": "3.8.8"
  }
 },
 "nbformat": 4,
 "nbformat_minor": 2
}
